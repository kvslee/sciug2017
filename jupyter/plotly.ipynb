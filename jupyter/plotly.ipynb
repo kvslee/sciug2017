{
 "cells": [
  {
   "cell_type": "code",
   "execution_count": 1,
   "metadata": {},
   "outputs": [
    {
     "data": {
      "application/javascript": [
       "IPython.OutputArea.prototype._should_scroll = function(lines) {return false;}"
      ],
      "text/plain": [
       "<IPython.core.display.Javascript object>"
      ]
     },
     "metadata": {},
     "output_type": "display_data"
    }
   ],
   "source": [
    "%%javascript\n",
    "IPython.OutputArea.prototype._should_scroll = function(lines) {return false;}"
   ]
  },
  {
   "cell_type": "markdown",
   "metadata": {},
   "source": [
    "# Plotly, Sierra SQL, and Jupyter\n",
    "## Three ways to run a script on Jupyter"
   ]
  },
  {
   "cell_type": "markdown",
   "metadata": {},
   "source": [
    "### Example One:  we can reuse (copy/paste) the code (the first offline chart) with minor changes:\n",
    "1. Plotly.offline.iplot\n",
    "1. init_notebook_mode(connected=True)\n",
    "1. No output filename"
   ]
  },
  {
   "cell_type": "code",
   "execution_count": 2,
   "metadata": {
    "scrolled": true
   },
   "outputs": [
    {
     "data": {
      "text/html": [
       "<script>requirejs.config({paths: { 'plotly': ['https://cdn.plot.ly/plotly-latest.min']},});if(!window.Plotly) {{require(['plotly'],function(plotly) {window.Plotly=plotly;});}}</script>"
      ],
      "text/vnd.plotly.v1+html": [
       "<script>requirejs.config({paths: { 'plotly': ['https://cdn.plot.ly/plotly-latest.min']},});if(!window.Plotly) {{require(['plotly'],function(plotly) {window.Plotly=plotly;});}}</script>"
      ]
     },
     "metadata": {},
     "output_type": "display_data"
    },
    {
     "data": {
      "application/vnd.plotly.v1+json": {
       "data": [
        {
         "type": "bar",
         "x": [
          "Leatherby",
          "Law",
          "Science",
          "Music",
          "Brandman"
         ],
         "y": [
          543,
          365,
          92,
          61,
          77
         ]
        }
       ],
       "layout": {
        "title": "SCIUG Conference"
       }
      },
      "text/html": [
       "<div id=\"78782cb1-6443-40eb-8163-ce9a6b63f2f8\" style=\"height: 525px; width: 100%;\" class=\"plotly-graph-div\"></div><script type=\"text/javascript\">require([\"plotly\"], function(Plotly) { window.PLOTLYENV=window.PLOTLYENV || {};window.PLOTLYENV.BASE_URL=\"https://plot.ly\";Plotly.newPlot(\"78782cb1-6443-40eb-8163-ce9a6b63f2f8\", [{\"type\": \"bar\", \"x\": [\"Leatherby\", \"Law\", \"Science\", \"Music\", \"Brandman\"], \"y\": [543, 365, 92, 61, 77]}], {\"title\": \"SCIUG Conference\"}, {\"showLink\": true, \"linkText\": \"Export to plot.ly\"})});</script>"
      ],
      "text/vnd.plotly.v1+html": [
       "<div id=\"78782cb1-6443-40eb-8163-ce9a6b63f2f8\" style=\"height: 525px; width: 100%;\" class=\"plotly-graph-div\"></div><script type=\"text/javascript\">require([\"plotly\"], function(Plotly) { window.PLOTLYENV=window.PLOTLYENV || {};window.PLOTLYENV.BASE_URL=\"https://plot.ly\";Plotly.newPlot(\"78782cb1-6443-40eb-8163-ce9a6b63f2f8\", [{\"type\": \"bar\", \"x\": [\"Leatherby\", \"Law\", \"Science\", \"Music\", \"Brandman\"], \"y\": [543, 365, 92, 61, 77]}], {\"title\": \"SCIUG Conference\"}, {\"showLink\": true, \"linkText\": \"Export to plot.ly\"})});</script>"
      ]
     },
     "metadata": {},
     "output_type": "display_data"
    }
   ],
   "source": [
    "import plotly\n",
    "from plotly.graph_objs import Bar, Pie, Scatter, Layout\n",
    "\n",
    "plotly.offline.init_notebook_mode(connected=True)\n",
    "\n",
    "# Bar Chart\n",
    "plotly.offline.iplot({\n",
    "    \"data\": [Bar(x=[\"Leatherby\", \"Law\", \"Science\", \"Music\", \"Brandman\"], y=[543, 365, 92, 61, 77])],\n",
    "    \"layout\": Layout(title=\"SCIUG Conference\")\n",
    "})"
   ]
  },
  {
   "cell_type": "markdown",
   "metadata": {},
   "source": [
    "### Example Two: Import a script as a module\n",
    "Jupyter was actually designed to communicate experiments and ideas. So, the code parts in cells should not be long unnecessarily. Ideally, it is better just to import the code as a module, unless the main goal is to show the code itself. In this second example, we will just import the exactly same script as a module.<br>\n",
    "**[Warning] You need to restart the current kernel to make a modified script be effective.**"
   ]
  },
  {
   "cell_type": "code",
   "execution_count": 3,
   "metadata": {},
   "outputs": [
    {
     "data": {
      "text/html": [
       "<script>requirejs.config({paths: { 'plotly': ['https://cdn.plot.ly/plotly-latest.min']},});if(!window.Plotly) {{require(['plotly'],function(plotly) {window.Plotly=plotly;});}}</script>"
      ],
      "text/vnd.plotly.v1+html": [
       "<script>requirejs.config({paths: { 'plotly': ['https://cdn.plot.ly/plotly-latest.min']},});if(!window.Plotly) {{require(['plotly'],function(plotly) {window.Plotly=plotly;});}}</script>"
      ]
     },
     "metadata": {},
     "output_type": "display_data"
    },
    {
     "data": {
      "application/vnd.plotly.v1+json": {
       "data": [
        {
         "labels": [
          "Leatherby",
          "Law",
          "Science",
          "Music",
          "Brandman"
         ],
         "type": "pie",
         "values": [
          543,
          365,
          92,
          61,
          77
         ]
        }
       ],
       "layout": {
        "title": "Checkouts by Libraries"
       }
      },
      "text/html": [
       "<div id=\"8e96d1b4-7cdc-46f7-af73-f0a2bc0d201e\" style=\"height: 525px; width: 100%;\" class=\"plotly-graph-div\"></div><script type=\"text/javascript\">require([\"plotly\"], function(Plotly) { window.PLOTLYENV=window.PLOTLYENV || {};window.PLOTLYENV.BASE_URL=\"https://plot.ly\";Plotly.newPlot(\"8e96d1b4-7cdc-46f7-af73-f0a2bc0d201e\", [{\"type\": \"pie\", \"labels\": [\"Leatherby\", \"Law\", \"Science\", \"Music\", \"Brandman\"], \"values\": [543, 365, 92, 61, 77]}], {\"title\": \"Checkouts by Libraries\"}, {\"showLink\": true, \"linkText\": \"Export to plot.ly\"})});</script>"
      ],
      "text/vnd.plotly.v1+html": [
       "<div id=\"8e96d1b4-7cdc-46f7-af73-f0a2bc0d201e\" style=\"height: 525px; width: 100%;\" class=\"plotly-graph-div\"></div><script type=\"text/javascript\">require([\"plotly\"], function(Plotly) { window.PLOTLYENV=window.PLOTLYENV || {};window.PLOTLYENV.BASE_URL=\"https://plot.ly\";Plotly.newPlot(\"8e96d1b4-7cdc-46f7-af73-f0a2bc0d201e\", [{\"type\": \"pie\", \"labels\": [\"Leatherby\", \"Law\", \"Science\", \"Music\", \"Brandman\"], \"values\": [543, 365, 92, 61, 77]}], {\"title\": \"Checkouts by Libraries\"}, {\"showLink\": true, \"linkText\": \"Export to plot.ly\"})});</script>"
      ]
     },
     "metadata": {},
     "output_type": "display_data"
    }
   ],
   "source": [
    "import first"
   ]
  },
  {
   "cell_type": "markdown",
   "metadata": {},
   "source": [
    "### Example 3: Use a magic function %run to execute a script as a .py file\n",
    "What about if we need to reflect user inputs when we run a script. In this case, we have to use a Jupyter's magic function **%run**. The magic function does not import a script to Jupyter as a module (as we did in the second example), but runs the script in a Jupyter background shell and delivers final outputs to Jupyter. <br>\n",
    "This method is useful when you execute a python script that takes user inputs interactively. Again, we will re-use a script that we had already used: sierra_chart_embed.py. I took off output_type=div, because we present charts on Jupyter. Please note two important things in this example. First, I specify my user option (only checkout(o) and checkin(i) in five days, when I run the script. Second, this script actually gets actual data from Sierra database. We are talking about using Plotly charts and Sierra data on Jupyter in this example."
   ]
  },
  {
   "cell_type": "code",
   "execution_count": 4,
   "metadata": {},
   "outputs": [
    {
     "data": {
      "application/vnd.plotly.v1+json": {
       "data": [
        {
         "type": "bar",
         "x": [
          "cbran",
          "chome",
          "lhome"
         ],
         "y": [
          16,
          1845,
          405
         ]
        }
       ],
       "layout": {
        "title": "Home Libraries"
       }
      },
      "text/html": [
       "<div id=\"4065bfd1-0ea3-4a15-b741-da135963da35\" style=\"height: 525px; width: 100%;\" class=\"plotly-graph-div\"></div><script type=\"text/javascript\">require([\"plotly\"], function(Plotly) { window.PLOTLYENV=window.PLOTLYENV || {};window.PLOTLYENV.BASE_URL=\"https://plot.ly\";Plotly.newPlot(\"4065bfd1-0ea3-4a15-b741-da135963da35\", [{\"type\": \"bar\", \"x\": [\"cbran\", \"chome\", \"lhome\"], \"y\": [16, 1845, 405]}], {\"title\": \"Home Libraries\"}, {\"showLink\": true, \"linkText\": \"Export to plot.ly\"})});</script>"
      ],
      "text/vnd.plotly.v1+html": [
       "<div id=\"4065bfd1-0ea3-4a15-b741-da135963da35\" style=\"height: 525px; width: 100%;\" class=\"plotly-graph-div\"></div><script type=\"text/javascript\">require([\"plotly\"], function(Plotly) { window.PLOTLYENV=window.PLOTLYENV || {};window.PLOTLYENV.BASE_URL=\"https://plot.ly\";Plotly.newPlot(\"4065bfd1-0ea3-4a15-b741-da135963da35\", [{\"type\": \"bar\", \"x\": [\"cbran\", \"chome\", \"lhome\"], \"y\": [16, 1845, 405]}], {\"title\": \"Home Libraries\"}, {\"showLink\": true, \"linkText\": \"Export to plot.ly\"})});</script>"
      ]
     },
     "metadata": {},
     "output_type": "display_data"
    },
    {
     "data": {
      "application/vnd.plotly.v1+json": {
       "data": [
        {
         "labels": [
          "i",
          "o"
         ],
         "type": "pie",
         "values": [
          1063,
          1203
         ]
        }
       ],
       "layout": {
        "title": "Transaction Types"
       }
      },
      "text/html": [
       "<div id=\"9eab8c80-13c1-4797-a696-e1637ed22ccb\" style=\"height: 525px; width: 100%;\" class=\"plotly-graph-div\"></div><script type=\"text/javascript\">require([\"plotly\"], function(Plotly) { window.PLOTLYENV=window.PLOTLYENV || {};window.PLOTLYENV.BASE_URL=\"https://plot.ly\";Plotly.newPlot(\"9eab8c80-13c1-4797-a696-e1637ed22ccb\", [{\"type\": \"pie\", \"labels\": [\"i\", \"o\"], \"values\": [1063, 1203]}], {\"title\": \"Transaction Types\"}, {\"showLink\": true, \"linkText\": \"Export to plot.ly\"})});</script>"
      ],
      "text/vnd.plotly.v1+html": [
       "<div id=\"9eab8c80-13c1-4797-a696-e1637ed22ccb\" style=\"height: 525px; width: 100%;\" class=\"plotly-graph-div\"></div><script type=\"text/javascript\">require([\"plotly\"], function(Plotly) { window.PLOTLYENV=window.PLOTLYENV || {};window.PLOTLYENV.BASE_URL=\"https://plot.ly\";Plotly.newPlot(\"9eab8c80-13c1-4797-a696-e1637ed22ccb\", [{\"type\": \"pie\", \"labels\": [\"i\", \"o\"], \"values\": [1063, 1203]}], {\"title\": \"Transaction Types\"}, {\"showLink\": true, \"linkText\": \"Export to plot.ly\"})});</script>"
      ]
     },
     "metadata": {},
     "output_type": "display_data"
    },
    {
     "data": {
      "application/vnd.plotly.v1+json": {
       "data": [
        {
         "type": "bar",
         "x": [
          "0",
          "1",
          "10",
          "12",
          "14",
          "15",
          "16",
          "18",
          "2",
          "20",
          "21",
          "22",
          "28",
          "29",
          "4",
          "5",
          "6"
         ],
         "y": [
          1256,
          95,
          48,
          12,
          386,
          16,
          10,
          6,
          46,
          13,
          5,
          1,
          212,
          57,
          35,
          5,
          63
         ]
        }
       ],
       "layout": {
        "title": "Patron Types",
        "xaxis": {
         "type": "category"
        }
       }
      },
      "text/html": [
       "<div id=\"d89045d9-a697-456b-9b08-b29761fa17e7\" style=\"height: 525px; width: 100%;\" class=\"plotly-graph-div\"></div><script type=\"text/javascript\">require([\"plotly\"], function(Plotly) { window.PLOTLYENV=window.PLOTLYENV || {};window.PLOTLYENV.BASE_URL=\"https://plot.ly\";Plotly.newPlot(\"d89045d9-a697-456b-9b08-b29761fa17e7\", [{\"type\": \"bar\", \"x\": [\"0\", \"1\", \"10\", \"12\", \"14\", \"15\", \"16\", \"18\", \"2\", \"20\", \"21\", \"22\", \"28\", \"29\", \"4\", \"5\", \"6\"], \"y\": [1256, 95, 48, 12, 386, 16, 10, 6, 46, 13, 5, 1, 212, 57, 35, 5, 63]}], {\"title\": \"Patron Types\", \"xaxis\": {\"type\": \"category\"}}, {\"showLink\": true, \"linkText\": \"Export to plot.ly\"})});</script>"
      ],
      "text/vnd.plotly.v1+html": [
       "<div id=\"d89045d9-a697-456b-9b08-b29761fa17e7\" style=\"height: 525px; width: 100%;\" class=\"plotly-graph-div\"></div><script type=\"text/javascript\">require([\"plotly\"], function(Plotly) { window.PLOTLYENV=window.PLOTLYENV || {};window.PLOTLYENV.BASE_URL=\"https://plot.ly\";Plotly.newPlot(\"d89045d9-a697-456b-9b08-b29761fa17e7\", [{\"type\": \"bar\", \"x\": [\"0\", \"1\", \"10\", \"12\", \"14\", \"15\", \"16\", \"18\", \"2\", \"20\", \"21\", \"22\", \"28\", \"29\", \"4\", \"5\", \"6\"], \"y\": [1256, 95, 48, 12, 386, 16, 10, 6, 46, 13, 5, 1, 212, 57, 35, 5, 63]}], {\"title\": \"Patron Types\", \"xaxis\": {\"type\": \"category\"}}, {\"showLink\": true, \"linkText\": \"Export to plot.ly\"})});</script>"
      ]
     },
     "metadata": {},
     "output_type": "display_data"
    },
    {
     "data": {
      "application/vnd.plotly.v1+json": {
       "data": [
        {
         "type": "bar",
         "x": [
          "calum",
          "cbsta",
          "ccsta",
          "cedvd",
          "cemdv",
          "cemst",
          "cesta",
          "cfacp",
          "cfdvd",
          "cfsta",
          "cfvid",
          "cgsta",
          "chacd",
          "chaos",
          "chast",
          "chdvd",
          "chovr",
          "chsta",
          "cill",
          "cmcna",
          "cmdvd",
          "cmmcd",
          "cmmin",
          "cmovr",
          "cmsta",
          "cresa",
          "cresb",
          "cresc",
          "cresd",
          "cresf",
          "cresh",
          "cresi",
          "cresm",
          "cresv",
          "crxst",
          "csdvd",
          "cssta",
          "ctdvd",
          "ctovr",
          "ctscs",
          "ctsov",
          "ctsta",
          "lfrst",
          "lill",
          "lres",
          "lsecn"
         ],
         "y": [
          1,
          25,
          3,
          2,
          11,
          17,
          16,
          3,
          209,
          41,
          3,
          1,
          2,
          1,
          9,
          8,
          2,
          184,
          55,
          12,
          3,
          3,
          2,
          4,
          33,
          4,
          69,
          60,
          34,
          5,
          17,
          4,
          905,
          1,
          2,
          3,
          65,
          15,
          2,
          2,
          2,
          45,
          4,
          6,
          356,
          15
         ]
        }
       ],
       "layout": {
        "title": "Item Locations"
       }
      },
      "text/html": [
       "<div id=\"b4f58e0d-eb36-4dcf-ba97-ba5486e0b2a4\" style=\"height: 525px; width: 100%;\" class=\"plotly-graph-div\"></div><script type=\"text/javascript\">require([\"plotly\"], function(Plotly) { window.PLOTLYENV=window.PLOTLYENV || {};window.PLOTLYENV.BASE_URL=\"https://plot.ly\";Plotly.newPlot(\"b4f58e0d-eb36-4dcf-ba97-ba5486e0b2a4\", [{\"type\": \"bar\", \"x\": [\"calum\", \"cbsta\", \"ccsta\", \"cedvd\", \"cemdv\", \"cemst\", \"cesta\", \"cfacp\", \"cfdvd\", \"cfsta\", \"cfvid\", \"cgsta\", \"chacd\", \"chaos\", \"chast\", \"chdvd\", \"chovr\", \"chsta\", \"cill\", \"cmcna\", \"cmdvd\", \"cmmcd\", \"cmmin\", \"cmovr\", \"cmsta\", \"cresa\", \"cresb\", \"cresc\", \"cresd\", \"cresf\", \"cresh\", \"cresi\", \"cresm\", \"cresv\", \"crxst\", \"csdvd\", \"cssta\", \"ctdvd\", \"ctovr\", \"ctscs\", \"ctsov\", \"ctsta\", \"lfrst\", \"lill\", \"lres\", \"lsecn\"], \"y\": [1, 25, 3, 2, 11, 17, 16, 3, 209, 41, 3, 1, 2, 1, 9, 8, 2, 184, 55, 12, 3, 3, 2, 4, 33, 4, 69, 60, 34, 5, 17, 4, 905, 1, 2, 3, 65, 15, 2, 2, 2, 45, 4, 6, 356, 15]}], {\"title\": \"Item Locations\"}, {\"showLink\": true, \"linkText\": \"Export to plot.ly\"})});</script>"
      ],
      "text/vnd.plotly.v1+html": [
       "<div id=\"b4f58e0d-eb36-4dcf-ba97-ba5486e0b2a4\" style=\"height: 525px; width: 100%;\" class=\"plotly-graph-div\"></div><script type=\"text/javascript\">require([\"plotly\"], function(Plotly) { window.PLOTLYENV=window.PLOTLYENV || {};window.PLOTLYENV.BASE_URL=\"https://plot.ly\";Plotly.newPlot(\"b4f58e0d-eb36-4dcf-ba97-ba5486e0b2a4\", [{\"type\": \"bar\", \"x\": [\"calum\", \"cbsta\", \"ccsta\", \"cedvd\", \"cemdv\", \"cemst\", \"cesta\", \"cfacp\", \"cfdvd\", \"cfsta\", \"cfvid\", \"cgsta\", \"chacd\", \"chaos\", \"chast\", \"chdvd\", \"chovr\", \"chsta\", \"cill\", \"cmcna\", \"cmdvd\", \"cmmcd\", \"cmmin\", \"cmovr\", \"cmsta\", \"cresa\", \"cresb\", \"cresc\", \"cresd\", \"cresf\", \"cresh\", \"cresi\", \"cresm\", \"cresv\", \"crxst\", \"csdvd\", \"cssta\", \"ctdvd\", \"ctovr\", \"ctscs\", \"ctsov\", \"ctsta\", \"lfrst\", \"lill\", \"lres\", \"lsecn\"], \"y\": [1, 25, 3, 2, 11, 17, 16, 3, 209, 41, 3, 1, 2, 1, 9, 8, 2, 184, 55, 12, 3, 3, 2, 4, 33, 4, 69, 60, 34, 5, 17, 4, 905, 1, 2, 3, 65, 15, 2, 2, 2, 45, 4, 6, 356, 15]}], {\"title\": \"Item Locations\"}, {\"showLink\": true, \"linkText\": \"Export to plot.ly\"})});</script>"
      ]
     },
     "metadata": {},
     "output_type": "display_data"
    },
    {
     "data": {
      "application/vnd.plotly.v1+json": {
       "data": [
        {
         "type": "bar",
         "x": [
          0,
          1,
          3,
          4,
          5,
          8,
          9,
          11,
          16,
          22,
          23,
          28,
          31,
          101,
          117,
          118,
          119
         ],
         "y": [
          446,
          194,
          2,
          3,
          12,
          3,
          2,
          52,
          853,
          55,
          11,
          3,
          249,
          19,
          6,
          310,
          46
         ]
        }
       ],
       "layout": {
        "title": "Item Types",
        "xaxis": {
         "type": "category"
        }
       }
      },
      "text/html": [
       "<div id=\"fac1095e-5c34-4e52-a7eb-557731989bcf\" style=\"height: 525px; width: 100%;\" class=\"plotly-graph-div\"></div><script type=\"text/javascript\">require([\"plotly\"], function(Plotly) { window.PLOTLYENV=window.PLOTLYENV || {};window.PLOTLYENV.BASE_URL=\"https://plot.ly\";Plotly.newPlot(\"fac1095e-5c34-4e52-a7eb-557731989bcf\", [{\"type\": \"bar\", \"x\": [0, 1, 3, 4, 5, 8, 9, 11, 16, 22, 23, 28, 31, 101, 117, 118, 119], \"y\": [446, 194, 2, 3, 12, 3, 2, 52, 853, 55, 11, 3, 249, 19, 6, 310, 46]}], {\"title\": \"Item Types\", \"xaxis\": {\"type\": \"category\"}}, {\"showLink\": true, \"linkText\": \"Export to plot.ly\"})});</script>"
      ],
      "text/vnd.plotly.v1+html": [
       "<div id=\"fac1095e-5c34-4e52-a7eb-557731989bcf\" style=\"height: 525px; width: 100%;\" class=\"plotly-graph-div\"></div><script type=\"text/javascript\">require([\"plotly\"], function(Plotly) { window.PLOTLYENV=window.PLOTLYENV || {};window.PLOTLYENV.BASE_URL=\"https://plot.ly\";Plotly.newPlot(\"fac1095e-5c34-4e52-a7eb-557731989bcf\", [{\"type\": \"bar\", \"x\": [0, 1, 3, 4, 5, 8, 9, 11, 16, 22, 23, 28, 31, 101, 117, 118, 119], \"y\": [446, 194, 2, 3, 12, 3, 2, 52, 853, 55, 11, 3, 249, 19, 6, 310, 46]}], {\"title\": \"Item Types\", \"xaxis\": {\"type\": \"category\"}}, {\"showLink\": true, \"linkText\": \"Export to plot.ly\"})});</script>"
      ]
     },
     "metadata": {},
     "output_type": "display_data"
    },
    {
     "data": {
      "application/vnd.plotly.v1+json": {
       "data": [
        {
         "type": "scatter",
         "x": [
          "2017/10/04",
          "2017/10/05",
          "2017/10/06",
          "2017/10/07",
          "2017/10/08",
          "2017/10/09"
         ],
         "y": [
          619,
          545,
          406,
          292,
          362,
          42
         ]
        }
       ],
       "layout": {
        "title": "Times"
       }
      },
      "text/html": [
       "<div id=\"33c65de6-f3b0-40e5-a966-cb8c0b3c3910\" style=\"height: 525px; width: 100%;\" class=\"plotly-graph-div\"></div><script type=\"text/javascript\">require([\"plotly\"], function(Plotly) { window.PLOTLYENV=window.PLOTLYENV || {};window.PLOTLYENV.BASE_URL=\"https://plot.ly\";Plotly.newPlot(\"33c65de6-f3b0-40e5-a966-cb8c0b3c3910\", [{\"type\": \"scatter\", \"x\": [\"2017/10/04\", \"2017/10/05\", \"2017/10/06\", \"2017/10/07\", \"2017/10/08\", \"2017/10/09\"], \"y\": [619, 545, 406, 292, 362, 42]}], {\"title\": \"Times\"}, {\"showLink\": true, \"linkText\": \"Export to plot.ly\"})});</script>"
      ],
      "text/vnd.plotly.v1+html": [
       "<div id=\"33c65de6-f3b0-40e5-a966-cb8c0b3c3910\" style=\"height: 525px; width: 100%;\" class=\"plotly-graph-div\"></div><script type=\"text/javascript\">require([\"plotly\"], function(Plotly) { window.PLOTLYENV=window.PLOTLYENV || {};window.PLOTLYENV.BASE_URL=\"https://plot.ly\";Plotly.newPlot(\"33c65de6-f3b0-40e5-a966-cb8c0b3c3910\", [{\"type\": \"scatter\", \"x\": [\"2017/10/04\", \"2017/10/05\", \"2017/10/06\", \"2017/10/07\", \"2017/10/08\", \"2017/10/09\"], \"y\": [619, 545, 406, 292, 362, 42]}], {\"title\": \"Times\"}, {\"showLink\": true, \"linkText\": \"Export to plot.ly\"})});</script>"
      ]
     },
     "metadata": {},
     "output_type": "display_data"
    }
   ],
   "source": [
    "%run sierra_chart_embed 5 oi"
   ]
  },
  {
   "cell_type": "code",
   "execution_count": null,
   "metadata": {
    "collapsed": true
   },
   "outputs": [],
   "source": []
  }
 ],
 "metadata": {
  "kernelspec": {
   "display_name": "Python 3",
   "language": "python",
   "name": "python3"
  },
  "language_info": {
   "codemirror_mode": {
    "name": "ipython",
    "version": 3
   },
   "file_extension": ".py",
   "mimetype": "text/x-python",
   "name": "python",
   "nbconvert_exporter": "python",
   "pygments_lexer": "ipython3",
   "version": "3.6.1"
  }
 },
 "nbformat": 4,
 "nbformat_minor": 2
}
