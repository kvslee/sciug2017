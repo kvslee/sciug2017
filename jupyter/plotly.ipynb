{
 "cells": [
  {
   "cell_type": "code",
   "execution_count": 1,
   "metadata": {},
   "outputs": [
    {
     "data": {
      "application/javascript": [
       "IPython.OutputArea.prototype._should_scroll = function(lines) {return false;}"
      ],
      "text/plain": [
       "<IPython.core.display.Javascript object>"
      ]
     },
     "metadata": {},
     "output_type": "display_data"
    }
   ],
   "source": [
    "%%javascript\n",
    "IPython.OutputArea.prototype._should_scroll = function(lines) {return false;}"
   ]
  },
  {
   "cell_type": "markdown",
   "metadata": {},
   "source": [
    "# Plotly, Sierra SQL, and Jupyter\n",
    "## Three ways to run a script on Jupyter"
   ]
  },
  {
   "cell_type": "markdown",
   "metadata": {},
   "source": [
    "### Example One:  we can reuse (copy/paste) the code (the first offline chart) with minor changes:\n",
    "1. Plotly.offline.iplot\n",
    "1. init_notebook_mode(connected=True)\n",
    "1. No output filename"
   ]
  },
  {
   "cell_type": "code",
   "execution_count": 2,
   "metadata": {
    "scrolled": true
   },
   "outputs": [
    {
     "data": {
      "text/html": [
       "<script>requirejs.config({paths: { 'plotly': ['https://cdn.plot.ly/plotly-latest.min']},});if(!window.Plotly) {{require(['plotly'],function(plotly) {window.Plotly=plotly;});}}</script>"
      ],
      "text/vnd.plotly.v1+html": [
       "<script>requirejs.config({paths: { 'plotly': ['https://cdn.plot.ly/plotly-latest.min']},});if(!window.Plotly) {{require(['plotly'],function(plotly) {window.Plotly=plotly;});}}</script>"
      ]
     },
     "metadata": {},
     "output_type": "display_data"
    },
    {
     "data": {
      "application/vnd.plotly.v1+json": {
       "data": [
        {
         "type": "bar",
         "x": [
          "Leatherby",
          "Law",
          "Science",
          "Music",
          "Brandman"
         ],
         "y": [
          543,
          365,
          92,
          61,
          77
         ]
        }
       ],
       "layout": {
        "title": "SCIUG Conference"
       }
      },
      "text/html": [
       "<div id=\"78782cb1-6443-40eb-8163-ce9a6b63f2f8\" style=\"height: 525px; width: 100%;\" class=\"plotly-graph-div\"></div><script type=\"text/javascript\">require([\"plotly\"], function(Plotly) { window.PLOTLYENV=window.PLOTLYENV || {};window.PLOTLYENV.BASE_URL=\"https://plot.ly\";Plotly.newPlot(\"78782cb1-6443-40eb-8163-ce9a6b63f2f8\", [{\"type\": \"bar\", \"x\": [\"Leatherby\", \"Law\", \"Science\", \"Music\", \"Brandman\"], \"y\": [543, 365, 92, 61, 77]}], {\"title\": \"SCIUG Conference\"}, {\"showLink\": true, \"linkText\": \"Export to plot.ly\"})});</script>"
      ],
      "text/vnd.plotly.v1+html": [
       "<div id=\"78782cb1-6443-40eb-8163-ce9a6b63f2f8\" style=\"height: 525px; width: 100%;\" class=\"plotly-graph-div\"></div><script type=\"text/javascript\">require([\"plotly\"], function(Plotly) { window.PLOTLYENV=window.PLOTLYENV || {};window.PLOTLYENV.BASE_URL=\"https://plot.ly\";Plotly.newPlot(\"78782cb1-6443-40eb-8163-ce9a6b63f2f8\", [{\"type\": \"bar\", \"x\": [\"Leatherby\", \"Law\", \"Science\", \"Music\", \"Brandman\"], \"y\": [543, 365, 92, 61, 77]}], {\"title\": \"SCIUG Conference\"}, {\"showLink\": true, \"linkText\": \"Export to plot.ly\"})});</script>"
      ]
     },
     "metadata": {},
     "output_type": "display_data"
    }
   ],
   "source": [
    "import plotly\n",
    "from plotly.graph_objs import Bar, Pie, Scatter, Layout\n",
    "\n",
    "plotly.offline.init_notebook_mode(connected=True)\n",
    "\n",
    "# Bar Chart\n",
    "plotly.offline.iplot({\n",
    "    \"data\": [Bar(x=[\"Leatherby\", \"Law\", \"Science\", \"Music\", \"Brandman\"], y=[543, 365, 92, 61, 77])],\n",
    "    \"layout\": Layout(title=\"SCIUG Conference\")\n",
    "})"
   ]
  },
  {
   "cell_type": "markdown",
   "metadata": {},
   "source": [
    "### Example Two: Import a script as a module\n",
    "Jupyter was actually designed to communicate experiments and ideas. So, the code parts in cells should not be long unnecessarily. Ideally, it is better just to import the code as a module, unless the main goal is to show the code itself. In this second example, we will just import the exactly same script as a module.<br>\n",
    "**[Warning] You need to restart the current kernel to make a modified script be effective.**"
   ]
  },
  {
   "cell_type": "code",
   "execution_count": 1,
   "metadata": {},
   "outputs": [
    {
     "data": {
      "text/html": [
       "<script>requirejs.config({paths: { 'plotly': ['https://cdn.plot.ly/plotly-latest.min']},});if(!window.Plotly) {{require(['plotly'],function(plotly) {window.Plotly=plotly;});}}</script>"
      ],
      "text/vnd.plotly.v1+html": [
       "<script>requirejs.config({paths: { 'plotly': ['https://cdn.plot.ly/plotly-latest.min']},});if(!window.Plotly) {{require(['plotly'],function(plotly) {window.Plotly=plotly;});}}</script>"
      ]
     },
     "metadata": {},
     "output_type": "display_data"
    },
    {
     "data": {
      "application/vnd.plotly.v1+json": {
       "data": [
        {
         "labels": [
          "Leatherby",
          "Law",
          "Science",
          "Music",
          "Brandman"
         ],
         "type": "pie",
         "values": [
          543,
          365,
          92,
          61,
          77
         ]
        }
       ],
       "layout": {
        "title": "Checkouts by Libraries"
       }
      },
      "text/html": [
       "<div id=\"e68187bf-d141-43a9-8295-6bc0e1aa89e1\" style=\"height: 525px; width: 100%;\" class=\"plotly-graph-div\"></div><script type=\"text/javascript\">require([\"plotly\"], function(Plotly) { window.PLOTLYENV=window.PLOTLYENV || {};window.PLOTLYENV.BASE_URL=\"https://plot.ly\";Plotly.newPlot(\"e68187bf-d141-43a9-8295-6bc0e1aa89e1\", [{\"type\": \"pie\", \"labels\": [\"Leatherby\", \"Law\", \"Science\", \"Music\", \"Brandman\"], \"values\": [543, 365, 92, 61, 77]}], {\"title\": \"Checkouts by Libraries\"}, {\"showLink\": true, \"linkText\": \"Export to plot.ly\"})});</script>"
      ],
      "text/vnd.plotly.v1+html": [
       "<div id=\"e68187bf-d141-43a9-8295-6bc0e1aa89e1\" style=\"height: 525px; width: 100%;\" class=\"plotly-graph-div\"></div><script type=\"text/javascript\">require([\"plotly\"], function(Plotly) { window.PLOTLYENV=window.PLOTLYENV || {};window.PLOTLYENV.BASE_URL=\"https://plot.ly\";Plotly.newPlot(\"e68187bf-d141-43a9-8295-6bc0e1aa89e1\", [{\"type\": \"pie\", \"labels\": [\"Leatherby\", \"Law\", \"Science\", \"Music\", \"Brandman\"], \"values\": [543, 365, 92, 61, 77]}], {\"title\": \"Checkouts by Libraries\"}, {\"showLink\": true, \"linkText\": \"Export to plot.ly\"})});</script>"
      ]
     },
     "metadata": {},
     "output_type": "display_data"
    }
   ],
   "source": [
    "import first"
   ]
  },
  {
   "cell_type": "markdown",
   "metadata": {},
   "source": [
    "### Example 3: Use a magic function %run to execute a script as a .py file\n",
    "What about if we need to reflect user inputs when we run a script. In this case, we have to use a Jupyter's magic function **%run**. The magic function does not import a script to Jupyter as a module (as we did in the second example), but runs the script in a Jupyter background shell and delivers final outputs to Jupyter. <br>\n",
    "This method is useful when you execute a python script that takes user inputs interactively. Again, we will re-use a script that we had already used: sierra_chart_embed.py. I took off output_type=div, because we present charts on Jupyter. Please note two important things in this example. First, I specify my user option (only checkout(o) and checkin(i) in five days, when I run the script. Second, this script actually gets actual data from Sierra database. We are talking about using Plotly charts and Sierra data on Jupyter in this example."
   ]
  },
  {
   "cell_type": "code",
   "execution_count": 2,
   "metadata": {},
   "outputs": [
    {
     "data": {
      "application/vnd.plotly.v1+json": {
       "data": [
        {
         "type": "bar",
         "x": [
          "cbran",
          "chome",
          "lhome"
         ],
         "y": [
          16,
          1896,
          409
         ]
        }
       ],
       "layout": {
        "title": "Home Libraries"
       }
      },
      "text/html": [
       "<div id=\"59f15045-ebc4-4ab1-9d8f-026333fec938\" style=\"height: 525px; width: 100%;\" class=\"plotly-graph-div\"></div><script type=\"text/javascript\">require([\"plotly\"], function(Plotly) { window.PLOTLYENV=window.PLOTLYENV || {};window.PLOTLYENV.BASE_URL=\"https://plot.ly\";Plotly.newPlot(\"59f15045-ebc4-4ab1-9d8f-026333fec938\", [{\"type\": \"bar\", \"x\": [\"cbran\", \"chome\", \"lhome\"], \"y\": [16, 1896, 409]}], {\"title\": \"Home Libraries\"}, {\"showLink\": true, \"linkText\": \"Export to plot.ly\"})});</script>"
      ],
      "text/vnd.plotly.v1+html": [
       "<div id=\"59f15045-ebc4-4ab1-9d8f-026333fec938\" style=\"height: 525px; width: 100%;\" class=\"plotly-graph-div\"></div><script type=\"text/javascript\">require([\"plotly\"], function(Plotly) { window.PLOTLYENV=window.PLOTLYENV || {};window.PLOTLYENV.BASE_URL=\"https://plot.ly\";Plotly.newPlot(\"59f15045-ebc4-4ab1-9d8f-026333fec938\", [{\"type\": \"bar\", \"x\": [\"cbran\", \"chome\", \"lhome\"], \"y\": [16, 1896, 409]}], {\"title\": \"Home Libraries\"}, {\"showLink\": true, \"linkText\": \"Export to plot.ly\"})});</script>"
      ]
     },
     "metadata": {},
     "output_type": "display_data"
    },
    {
     "data": {
      "application/vnd.plotly.v1+json": {
       "data": [
        {
         "labels": [
          "i",
          "o"
         ],
         "type": "pie",
         "values": [
          1094,
          1227
         ]
        }
       ],
       "layout": {
        "title": "Transaction Types"
       }
      },
      "text/html": [
       "<div id=\"44a7f8dd-5fc2-4c7f-a690-71ca4e47be44\" style=\"height: 525px; width: 100%;\" class=\"plotly-graph-div\"></div><script type=\"text/javascript\">require([\"plotly\"], function(Plotly) { window.PLOTLYENV=window.PLOTLYENV || {};window.PLOTLYENV.BASE_URL=\"https://plot.ly\";Plotly.newPlot(\"44a7f8dd-5fc2-4c7f-a690-71ca4e47be44\", [{\"type\": \"pie\", \"labels\": [\"i\", \"o\"], \"values\": [1094, 1227]}], {\"title\": \"Transaction Types\"}, {\"showLink\": true, \"linkText\": \"Export to plot.ly\"})});</script>"
      ],
      "text/vnd.plotly.v1+html": [
       "<div id=\"44a7f8dd-5fc2-4c7f-a690-71ca4e47be44\" style=\"height: 525px; width: 100%;\" class=\"plotly-graph-div\"></div><script type=\"text/javascript\">require([\"plotly\"], function(Plotly) { window.PLOTLYENV=window.PLOTLYENV || {};window.PLOTLYENV.BASE_URL=\"https://plot.ly\";Plotly.newPlot(\"44a7f8dd-5fc2-4c7f-a690-71ca4e47be44\", [{\"type\": \"pie\", \"labels\": [\"i\", \"o\"], \"values\": [1094, 1227]}], {\"title\": \"Transaction Types\"}, {\"showLink\": true, \"linkText\": \"Export to plot.ly\"})});</script>"
      ]
     },
     "metadata": {},
     "output_type": "display_data"
    },
    {
     "data": {
      "application/vnd.plotly.v1+json": {
       "data": [
        {
         "type": "bar",
         "x": [
          "0",
          "1",
          "10",
          "12",
          "14",
          "15",
          "16",
          "18",
          "2",
          "20",
          "21",
          "22",
          "28",
          "29",
          "4",
          "5",
          "6"
         ],
         "y": [
          1313,
          94,
          49,
          12,
          387,
          16,
          10,
          6,
          41,
          13,
          7,
          2,
          214,
          52,
          39,
          5,
          61
         ]
        }
       ],
       "layout": {
        "title": "Patron Types",
        "xaxis": {
         "type": "category"
        }
       }
      },
      "text/html": [
       "<div id=\"265598fc-fd17-48c0-825c-85088cda471b\" style=\"height: 525px; width: 100%;\" class=\"plotly-graph-div\"></div><script type=\"text/javascript\">require([\"plotly\"], function(Plotly) { window.PLOTLYENV=window.PLOTLYENV || {};window.PLOTLYENV.BASE_URL=\"https://plot.ly\";Plotly.newPlot(\"265598fc-fd17-48c0-825c-85088cda471b\", [{\"type\": \"bar\", \"x\": [\"0\", \"1\", \"10\", \"12\", \"14\", \"15\", \"16\", \"18\", \"2\", \"20\", \"21\", \"22\", \"28\", \"29\", \"4\", \"5\", \"6\"], \"y\": [1313, 94, 49, 12, 387, 16, 10, 6, 41, 13, 7, 2, 214, 52, 39, 5, 61]}], {\"title\": \"Patron Types\", \"xaxis\": {\"type\": \"category\"}}, {\"showLink\": true, \"linkText\": \"Export to plot.ly\"})});</script>"
      ],
      "text/vnd.plotly.v1+html": [
       "<div id=\"265598fc-fd17-48c0-825c-85088cda471b\" style=\"height: 525px; width: 100%;\" class=\"plotly-graph-div\"></div><script type=\"text/javascript\">require([\"plotly\"], function(Plotly) { window.PLOTLYENV=window.PLOTLYENV || {};window.PLOTLYENV.BASE_URL=\"https://plot.ly\";Plotly.newPlot(\"265598fc-fd17-48c0-825c-85088cda471b\", [{\"type\": \"bar\", \"x\": [\"0\", \"1\", \"10\", \"12\", \"14\", \"15\", \"16\", \"18\", \"2\", \"20\", \"21\", \"22\", \"28\", \"29\", \"4\", \"5\", \"6\"], \"y\": [1313, 94, 49, 12, 387, 16, 10, 6, 41, 13, 7, 2, 214, 52, 39, 5, 61]}], {\"title\": \"Patron Types\", \"xaxis\": {\"type\": \"category\"}}, {\"showLink\": true, \"linkText\": \"Export to plot.ly\"})});</script>"
      ]
     },
     "metadata": {},
     "output_type": "display_data"
    },
    {
     "data": {
      "application/vnd.plotly.v1+json": {
       "data": [
        {
         "type": "bar",
         "x": [
          "cbsta",
          "ccsta",
          "cedvd",
          "cemdv",
          "cemst",
          "cesta",
          "cfacp",
          "cfdvd",
          "cfsta",
          "cfvid",
          "chacd",
          "chaos",
          "chast",
          "chdvd",
          "chovr",
          "chsta",
          "cill",
          "cmcna",
          "cmdvd",
          "cmmcd",
          "cmmin",
          "cmovr",
          "cmsta",
          "cresa",
          "cresb",
          "cresc",
          "cresd",
          "cresf",
          "cresg",
          "cresh",
          "cresi",
          "cresm",
          "cresv",
          "crxst",
          "csdvd",
          "cssta",
          "ctdvd",
          "ctovr",
          "ctscs",
          "ctsov",
          "ctsta",
          "lfrst",
          "lill",
          "lres",
          "lsecn"
         ],
         "y": [
          25,
          3,
          2,
          11,
          17,
          18,
          3,
          224,
          45,
          3,
          2,
          1,
          9,
          4,
          2,
          195,
          57,
          11,
          3,
          3,
          2,
          4,
          32,
          6,
          74,
          60,
          38,
          5,
          1,
          16,
          4,
          913,
          3,
          4,
          3,
          70,
          15,
          1,
          2,
          1,
          44,
          4,
          6,
          358,
          17
         ]
        }
       ],
       "layout": {
        "title": "Item Locations"
       }
      },
      "text/html": [
       "<div id=\"13503352-35e3-4ef6-9ae2-c80dd93a68fd\" style=\"height: 525px; width: 100%;\" class=\"plotly-graph-div\"></div><script type=\"text/javascript\">require([\"plotly\"], function(Plotly) { window.PLOTLYENV=window.PLOTLYENV || {};window.PLOTLYENV.BASE_URL=\"https://plot.ly\";Plotly.newPlot(\"13503352-35e3-4ef6-9ae2-c80dd93a68fd\", [{\"type\": \"bar\", \"x\": [\"cbsta\", \"ccsta\", \"cedvd\", \"cemdv\", \"cemst\", \"cesta\", \"cfacp\", \"cfdvd\", \"cfsta\", \"cfvid\", \"chacd\", \"chaos\", \"chast\", \"chdvd\", \"chovr\", \"chsta\", \"cill\", \"cmcna\", \"cmdvd\", \"cmmcd\", \"cmmin\", \"cmovr\", \"cmsta\", \"cresa\", \"cresb\", \"cresc\", \"cresd\", \"cresf\", \"cresg\", \"cresh\", \"cresi\", \"cresm\", \"cresv\", \"crxst\", \"csdvd\", \"cssta\", \"ctdvd\", \"ctovr\", \"ctscs\", \"ctsov\", \"ctsta\", \"lfrst\", \"lill\", \"lres\", \"lsecn\"], \"y\": [25, 3, 2, 11, 17, 18, 3, 224, 45, 3, 2, 1, 9, 4, 2, 195, 57, 11, 3, 3, 2, 4, 32, 6, 74, 60, 38, 5, 1, 16, 4, 913, 3, 4, 3, 70, 15, 1, 2, 1, 44, 4, 6, 358, 17]}], {\"title\": \"Item Locations\"}, {\"showLink\": true, \"linkText\": \"Export to plot.ly\"})});</script>"
      ],
      "text/vnd.plotly.v1+html": [
       "<div id=\"13503352-35e3-4ef6-9ae2-c80dd93a68fd\" style=\"height: 525px; width: 100%;\" class=\"plotly-graph-div\"></div><script type=\"text/javascript\">require([\"plotly\"], function(Plotly) { window.PLOTLYENV=window.PLOTLYENV || {};window.PLOTLYENV.BASE_URL=\"https://plot.ly\";Plotly.newPlot(\"13503352-35e3-4ef6-9ae2-c80dd93a68fd\", [{\"type\": \"bar\", \"x\": [\"cbsta\", \"ccsta\", \"cedvd\", \"cemdv\", \"cemst\", \"cesta\", \"cfacp\", \"cfdvd\", \"cfsta\", \"cfvid\", \"chacd\", \"chaos\", \"chast\", \"chdvd\", \"chovr\", \"chsta\", \"cill\", \"cmcna\", \"cmdvd\", \"cmmcd\", \"cmmin\", \"cmovr\", \"cmsta\", \"cresa\", \"cresb\", \"cresc\", \"cresd\", \"cresf\", \"cresg\", \"cresh\", \"cresi\", \"cresm\", \"cresv\", \"crxst\", \"csdvd\", \"cssta\", \"ctdvd\", \"ctovr\", \"ctscs\", \"ctsov\", \"ctsta\", \"lfrst\", \"lill\", \"lres\", \"lsecn\"], \"y\": [25, 3, 2, 11, 17, 18, 3, 224, 45, 3, 2, 1, 9, 4, 2, 195, 57, 11, 3, 3, 2, 4, 32, 6, 74, 60, 38, 5, 1, 16, 4, 913, 3, 4, 3, 70, 15, 1, 2, 1, 44, 4, 6, 358, 17]}], {\"title\": \"Item Locations\"}, {\"showLink\": true, \"linkText\": \"Export to plot.ly\"})});</script>"
      ]
     },
     "metadata": {},
     "output_type": "display_data"
    },
    {
     "data": {
      "application/vnd.plotly.v1+json": {
       "data": [
        {
         "type": "bar",
         "x": [
          0,
          1,
          3,
          4,
          5,
          8,
          9,
          11,
          16,
          22,
          23,
          28,
          31,
          101,
          117,
          118,
          119
         ],
         "y": [
          464,
          207,
          4,
          3,
          11,
          3,
          2,
          50,
          863,
          57,
          9,
          3,
          260,
          21,
          6,
          318,
          40
         ]
        }
       ],
       "layout": {
        "title": "Item Types",
        "xaxis": {
         "type": "category"
        }
       }
      },
      "text/html": [
       "<div id=\"f798e14d-2057-4295-9fc7-0be91c17648c\" style=\"height: 525px; width: 100%;\" class=\"plotly-graph-div\"></div><script type=\"text/javascript\">require([\"plotly\"], function(Plotly) { window.PLOTLYENV=window.PLOTLYENV || {};window.PLOTLYENV.BASE_URL=\"https://plot.ly\";Plotly.newPlot(\"f798e14d-2057-4295-9fc7-0be91c17648c\", [{\"type\": \"bar\", \"x\": [0, 1, 3, 4, 5, 8, 9, 11, 16, 22, 23, 28, 31, 101, 117, 118, 119], \"y\": [464, 207, 4, 3, 11, 3, 2, 50, 863, 57, 9, 3, 260, 21, 6, 318, 40]}], {\"title\": \"Item Types\", \"xaxis\": {\"type\": \"category\"}}, {\"showLink\": true, \"linkText\": \"Export to plot.ly\"})});</script>"
      ],
      "text/vnd.plotly.v1+html": [
       "<div id=\"f798e14d-2057-4295-9fc7-0be91c17648c\" style=\"height: 525px; width: 100%;\" class=\"plotly-graph-div\"></div><script type=\"text/javascript\">require([\"plotly\"], function(Plotly) { window.PLOTLYENV=window.PLOTLYENV || {};window.PLOTLYENV.BASE_URL=\"https://plot.ly\";Plotly.newPlot(\"f798e14d-2057-4295-9fc7-0be91c17648c\", [{\"type\": \"bar\", \"x\": [0, 1, 3, 4, 5, 8, 9, 11, 16, 22, 23, 28, 31, 101, 117, 118, 119], \"y\": [464, 207, 4, 3, 11, 3, 2, 50, 863, 57, 9, 3, 260, 21, 6, 318, 40]}], {\"title\": \"Item Types\", \"xaxis\": {\"type\": \"category\"}}, {\"showLink\": true, \"linkText\": \"Export to plot.ly\"})});</script>"
      ]
     },
     "metadata": {},
     "output_type": "display_data"
    },
    {
     "data": {
      "application/vnd.plotly.v1+json": {
       "data": [
        {
         "type": "scatter",
         "x": [
          "2017/10/04",
          "2017/10/05",
          "2017/10/06",
          "2017/10/07",
          "2017/10/08",
          "2017/10/09"
         ],
         "y": [
          441,
          545,
          406,
          292,
          362,
          275
         ]
        }
       ],
       "layout": {
        "title": "Times"
       }
      },
      "text/html": [
       "<div id=\"204fa6dc-eeed-45a2-b5e6-7c12a09e8db2\" style=\"height: 525px; width: 100%;\" class=\"plotly-graph-div\"></div><script type=\"text/javascript\">require([\"plotly\"], function(Plotly) { window.PLOTLYENV=window.PLOTLYENV || {};window.PLOTLYENV.BASE_URL=\"https://plot.ly\";Plotly.newPlot(\"204fa6dc-eeed-45a2-b5e6-7c12a09e8db2\", [{\"type\": \"scatter\", \"x\": [\"2017/10/04\", \"2017/10/05\", \"2017/10/06\", \"2017/10/07\", \"2017/10/08\", \"2017/10/09\"], \"y\": [441, 545, 406, 292, 362, 275]}], {\"title\": \"Times\"}, {\"showLink\": true, \"linkText\": \"Export to plot.ly\"})});</script>"
      ],
      "text/vnd.plotly.v1+html": [
       "<div id=\"204fa6dc-eeed-45a2-b5e6-7c12a09e8db2\" style=\"height: 525px; width: 100%;\" class=\"plotly-graph-div\"></div><script type=\"text/javascript\">require([\"plotly\"], function(Plotly) { window.PLOTLYENV=window.PLOTLYENV || {};window.PLOTLYENV.BASE_URL=\"https://plot.ly\";Plotly.newPlot(\"204fa6dc-eeed-45a2-b5e6-7c12a09e8db2\", [{\"type\": \"scatter\", \"x\": [\"2017/10/04\", \"2017/10/05\", \"2017/10/06\", \"2017/10/07\", \"2017/10/08\", \"2017/10/09\"], \"y\": [441, 545, 406, 292, 362, 275]}], {\"title\": \"Times\"}, {\"showLink\": true, \"linkText\": \"Export to plot.ly\"})});</script>"
      ]
     },
     "metadata": {},
     "output_type": "display_data"
    }
   ],
   "source": [
    "%run sierra_chart_embed 5 oi"
   ]
  },
  {
   "cell_type": "code",
   "execution_count": null,
   "metadata": {
    "collapsed": true
   },
   "outputs": [],
   "source": []
  }
 ],
 "metadata": {
  "kernelspec": {
   "display_name": "Python 3",
   "language": "python",
   "name": "python3"
  },
  "language_info": {
   "codemirror_mode": {
    "name": "ipython",
    "version": 3
   },
   "file_extension": ".py",
   "mimetype": "text/x-python",
   "name": "python",
   "nbconvert_exporter": "python",
   "pygments_lexer": "ipython3",
   "version": "3.6.1"
  }
 },
 "nbformat": 4,
 "nbformat_minor": 2
}
